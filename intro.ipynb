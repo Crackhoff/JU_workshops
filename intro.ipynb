{
 "cells": [
  {
   "cell_type": "code",
   "execution_count": null,
   "metadata": {},
   "outputs": [],
   "source": [
    "import random\n",
    "import math\n",
    "from helper import *"
   ]
  },
  {
   "cell_type": "markdown",
   "metadata": {},
   "source": [
    "# Czym jest losowość?"
   ]
  },
  {
   "cell_type": "code",
   "execution_count": null,
   "metadata": {},
   "outputs": [],
   "source": [
    "liczba = random.randint(1, 100)\n",
    "\n",
    "print(f\"Twoja liczba losowa to {liczba}\")"
   ]
  },
  {
   "cell_type": "markdown",
   "metadata": {},
   "source": [
    "## Rozkład liczb - co to?\n"
   ]
  },
  {
   "cell_type": "code",
   "execution_count": null,
   "metadata": {},
   "outputs": [],
   "source": [
    "liczby = []\n",
    "for i in range(100000):\n",
    "    liczby.append(random.randint(1, 10))\n",
    "    \n",
    "plot_uniform_distribution(liczby)"
   ]
  },
  {
   "cell_type": "markdown",
   "metadata": {},
   "source": [
    "Powyżej widzimy rozkład _jednostajny_ liczb losowych na przedziale $[1,10]$. Im więcej prób, tym bardziej oba wykresy będą się zbliżać do linii prostej."
   ]
  },
  {
   "cell_type": "markdown",
   "metadata": {},
   "source": [
    "## Metoda Monte Carlo\n",
    "\n",
    "Metoda Monte Carlo to technika numeryczna, która polega na wykorzystaniu liczb losowych na przykad do obliczania wartości całek, czy szacowania wartości liczby $\\pi$."
   ]
  },
  {
   "cell_type": "code",
   "execution_count": null,
   "metadata": {},
   "outputs": [],
   "source": [
    "def czy_w_kole(x,y,r):\n",
    "    return (x**2 + y**2) <= r**2\n",
    "\n",
    "liczby = []\n",
    "for i in range(100000):\n",
    "    x = random.uniform(-1,1)\n",
    "    y = random.uniform(-1,1)\n",
    "    liczby.append((x,y))\n",
    "    \n",
    "plot_circle(liczby)\n",
    "\n",
    "ile_w_kole = sum([1 for x,y in liczby if czy_w_kole(x,y,1)])\n",
    "print(f\"Pi wynosi około {ile_w_kole/100000*4}\")\n"
   ]
  },
  {
   "cell_type": "code",
   "execution_count": null,
   "metadata": {},
   "outputs": [],
   "source": [
    "def czy_pod_funkcja(x,y,f):\n",
    "    return y <= f(x)\n",
    "\n",
    "liczby = []\n",
    "\n",
    "x_min = -1\n",
    "x_max = 1\n",
    "y_min = 0\n",
    "y_max = 1\n",
    "pole = (x_max - x_min)*(y_max - y_min)\n",
    "\n",
    "for i in range(100000):\n",
    "    x = random.uniform(x_min,x_max)\n",
    "    y = random.uniform(y_min,y_max)\n",
    "    liczby.append((x,y))\n",
    "    \n",
    "def f(x):\n",
    "    return x**2\n",
    "\n",
    "plot_function(liczby, f)\n",
    "\n",
    "ile_pod_funkcja = sum([1 for x,y in liczby if czy_pod_funkcja(x,y,f)])\n",
    "print(f\"Pole pod funkcją wynosi około {ile_pod_funkcja/100000*pole}\")\n",
    "\n"
   ]
  }
 ],
 "metadata": {
  "kernelspec": {
   "display_name": "ox",
   "language": "python",
   "name": "python3"
  },
  "language_info": {
   "codemirror_mode": {
    "name": "ipython",
    "version": 3
   },
   "file_extension": ".py",
   "mimetype": "text/x-python",
   "name": "python",
   "nbconvert_exporter": "python",
   "pygments_lexer": "ipython3",
   "version": "3.12.2"
  }
 },
 "nbformat": 4,
 "nbformat_minor": 2
}
