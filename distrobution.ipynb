{
 "cells": [
  {
   "cell_type": "markdown",
   "metadata": {},
   "source": [
    "### Załóżmy, że możemy wylosować liczbę między 0 a 1. Jak, korzystając z tej losowej liczby, wylosować liczbę między 0 a 7?"
   ]
  },
  {
   "cell_type": "markdown",
   "metadata": {},
   "source": [
    "Załóżmy, że mamy liczbę jak w przykładzie powyżej. Jak wylosować:\n",
    "\n",
    "- Punkt na dowolnym przedziale. Czy musi być domknięty?\n",
    "\n",
    "- Punkt na kwadracie\n",
    "\n",
    "- Punkt w kole\n",
    "\n",
    "- Punkt wewnątrz trójkąta"
   ]
  },
  {
   "cell_type": "markdown",
   "metadata": {},
   "source": [
    "### Zabawy z losowaniem cięciwy - Paradoks Bertranda"
   ]
  }
 ],
 "metadata": {
  "kernelspec": {
   "display_name": "ox",
   "language": "python",
   "name": "python3"
  },
  "language_info": {
   "name": "python",
   "version": "3.12.2"
  }
 },
 "nbformat": 4,
 "nbformat_minor": 2
}
