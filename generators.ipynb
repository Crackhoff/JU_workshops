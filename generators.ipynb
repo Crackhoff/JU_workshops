{
 "cells": [
  {
   "cell_type": "code",
   "execution_count": null,
   "metadata": {},
   "outputs": [],
   "source": [
    "import random\n",
    "from helper import *"
   ]
  },
  {
   "cell_type": "markdown",
   "metadata": {},
   "source": [
    "# Jak generuje się liczby losowe?\n",
    "\n",
    "## Seed - ziarno\n",
    "\n",
    "Wszystkie generatory liczb losowych zaczynają od jakiegoś początkowego stanu, który nazywamy ziarnem (ang. seed). Dzięki temu, jeśli podamy ten sam seed, to zawsze dostaniemy te same liczby losowe - można to wykorzystać np. do debuggowania."
   ]
  },
  {
   "cell_type": "code",
   "execution_count": null,
   "metadata": {},
   "outputs": [],
   "source": [
    "random.seed(3)\n",
    "random_numbers = [random.randint(0, 100) for _ in range(10)]\n",
    "print(random_numbers)"
   ]
  },
  {
   "cell_type": "markdown",
   "metadata": {},
   "source": [
    "### Generatory liniowe kongruentne\n",
    "\n",
    "Metoda generowania liczb losowych polega na wyznaczeniu ciągu liczb całkowitych za pomocą rekurencyjnego wzoru:\n",
    "$$\n",
    "X_{n+1} = (a \\cdot X_n + c) \\mod m\n",
    "$$\n",
    "gdzie:\n",
    "- $X_n$ - liczba losowa w kroku $n$\n",
    "- $a$, $c$, $m$ - parametry generatora"
   ]
  },
  {
   "cell_type": "code",
   "execution_count": null,
   "metadata": {},
   "outputs": [],
   "source": [
    "def linear_congruential_generator(a, c, m, x0, n):\n",
    "    x = x0\n",
    "    for i in range(n):\n",
    "        x = (a * x + c) % m\n",
    "        yield x\n",
    "\n",
    "generator_liniowy = linear_congruential_generator(37, 71, 1000, 123, 100)\n",
    "print([next(generator_liniowy) for _ in range(10)])"
   ]
  },
  {
   "cell_type": "markdown",
   "metadata": {},
   "source": [
    "### Wady generatorów liniowych kongruentnych\n",
    "\n",
    "- Generowane liczby mają okres, po którym zaczynają się powtarzać\n",
    "- Stosunkowo niska jakość generowanych liczb losowych\n",
    "- Łatwo przewidzieć kolejne liczby, jeśli znamy kilka początkowych"
   ]
  },
  {
   "cell_type": "markdown",
   "metadata": {},
   "source": [
    "### Metoda środkowego kwadratu von Neumanna (Middle Square Method)\n",
    "\n",
    "Metoda polega na wygenerowaniu ciągu liczb pseudolosowych, zaczynając od liczby początkowej (seed), podnosimy ją do kwadratu, dopełniamy do określonej liczby cyfr zerami z przodu, a następnie wybieramy środkowe cyfry jako kolejny element ciągu. Następnie powtarzamy operację dla kolejnych liczb.\n"
   ]
  },
  {
   "cell_type": "code",
   "execution_count": null,
   "metadata": {},
   "outputs": [],
   "source": [
    "def middle_square_generator(x0, n):\n",
    "    x = x0\n",
    "    for i in range(n):\n",
    "        x = int(str(x**2).zfill(8)[2:6])\n",
    "        yield x\n",
    "        \n",
    "generator_srodka = middle_square_generator(11, 10)\n",
    "print([next(generator_srodka) for _ in range(10)])"
   ]
  },
  {
   "cell_type": "markdown",
   "metadata": {},
   "source": [
    "### Twister Mersenne'a (Mersenne Twister)\n",
    "\n",
    "Algorytm generowania liczb pseudolosowych, który zachowuje się dużo lepiej niż większość innych generatorów. Jest to algorytm o bardzo długim okresie: 2^19937-1. Używa się go w większości języków programowania ze względu na jego szybkość i jakość generowanych liczb.\n",
    "\n",
    "#### Twister w pythonie\n",
    "\n",
    "```python\n",
    "import random\n",
    "```\n",
    "\n",
    "#### Twister w C++\n",
    "\n",
    "```cpp\n",
    "#include <random>\n",
    "\n",
    "std::mt19937 rng (seed); // seed generatora\n",
    "std::uniform_int_distribution<int> dist(0, 1); // distribution in range [1, 6]\n",
    "std::cout << dist(rng) << std::endl;\n",
    "```\n"
   ]
  }
 ],
 "metadata": {
  "kernelspec": {
   "display_name": "ox",
   "language": "python",
   "name": "python3"
  },
  "language_info": {
   "codemirror_mode": {
    "name": "ipython",
    "version": 3
   },
   "file_extension": ".py",
   "mimetype": "text/x-python",
   "name": "python",
   "nbconvert_exporter": "python",
   "pygments_lexer": "ipython3",
   "version": "3.12.2"
  }
 },
 "nbformat": 4,
 "nbformat_minor": 2
}
